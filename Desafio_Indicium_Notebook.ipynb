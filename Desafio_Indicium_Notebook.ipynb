{
 "cells": [
  {
   "cell_type": "code",
   "execution_count": 1,
   "metadata": {},
   "outputs": [],
   "source": [
    "import pandas as pd\n",
    "import matplotlib.pyplot as plt\n",
    "import numpy as np"
   ]
  },
  {
   "cell_type": "markdown",
   "metadata": {},
   "source": [
    "## Extract"
   ]
  },
  {
   "cell_type": "code",
   "execution_count": 2,
   "metadata": {},
   "outputs": [],
   "source": [
    "#Loading DataFrames\n",
    "contato = pd.read_csv(r\"contacts.tsv\", sep = \"\\t\", usecols=[' contactsId', 'contactsName'])\n",
    "compania = pd.read_csv(r\"companies.tsv\", sep = \"\\t\", usecols=[0, 1, 6, 7, 9])\n",
    "venda = pd.read_csv(r\"deals.tsv\", sep = \"\\t\")\n",
    "setor = pd.read_csv(r\"sectors.tsv\", sep = \"\\t\")"
   ]
  },
  {
   "cell_type": "markdown",
   "metadata": {},
   "source": [
    "## Transform"
   ]
  },
  {
   "cell_type": "code",
   "execution_count": 3,
   "metadata": {},
   "outputs": [],
   "source": [
    "#Modifing Columns Names;\n",
    "contato.columns = ['contactsId', 'contactsName']\n",
    "compania.columns = ['companiesId', 'companiesName', 'contactsId', \n",
    "                    'contactsName','sectorKey']"
   ]
  },
  {
   "cell_type": "code",
   "execution_count": 4,
   "metadata": {
    "scrolled": false
   },
   "outputs": [
    {
     "name": "stdout",
     "output_type": "stream",
     "text": [
      "Numero de linhas excluidas= 0\n"
     ]
    },
    {
     "data": {
      "text/html": [
       "<div>\n",
       "<style scoped>\n",
       "    .dataframe tbody tr th:only-of-type {\n",
       "        vertical-align: middle;\n",
       "    }\n",
       "\n",
       "    .dataframe tbody tr th {\n",
       "        vertical-align: top;\n",
       "    }\n",
       "\n",
       "    .dataframe thead th {\n",
       "        text-align: right;\n",
       "    }\n",
       "</style>\n",
       "<table border=\"1\" class=\"dataframe\">\n",
       "  <thead>\n",
       "    <tr style=\"text-align: right;\">\n",
       "      <th></th>\n",
       "      <th>contactsId</th>\n",
       "      <th>contactsName</th>\n",
       "      <th>companiesId</th>\n",
       "      <th>companiesName</th>\n",
       "      <th>sectorKey</th>\n",
       "      <th>dealsId</th>\n",
       "      <th>dealsDateCreated</th>\n",
       "      <th>dealsPrice</th>\n",
       "    </tr>\n",
       "  </thead>\n",
       "  <tbody>\n",
       "    <tr>\n",
       "      <th>0</th>\n",
       "      <td>1</td>\n",
       "      <td>Damian Mathews</td>\n",
       "      <td>1</td>\n",
       "      <td>Class LLP</td>\n",
       "      <td>5</td>\n",
       "      <td>43</td>\n",
       "      <td>2/4/2019</td>\n",
       "      <td>660</td>\n",
       "    </tr>\n",
       "    <tr>\n",
       "      <th>1</th>\n",
       "      <td>1</td>\n",
       "      <td>Damian Mathews</td>\n",
       "      <td>1</td>\n",
       "      <td>Class LLP</td>\n",
       "      <td>5</td>\n",
       "      <td>28</td>\n",
       "      <td>5/9/2019</td>\n",
       "      <td>60</td>\n",
       "    </tr>\n",
       "    <tr>\n",
       "      <th>2</th>\n",
       "      <td>1</td>\n",
       "      <td>Damian Mathews</td>\n",
       "      <td>1</td>\n",
       "      <td>Class LLP</td>\n",
       "      <td>5</td>\n",
       "      <td>22</td>\n",
       "      <td>11/14/2017</td>\n",
       "      <td>4210</td>\n",
       "    </tr>\n",
       "    <tr>\n",
       "      <th>3</th>\n",
       "      <td>2</td>\n",
       "      <td>Paul Leblanc</td>\n",
       "      <td>2</td>\n",
       "      <td>Vulputate Corporation</td>\n",
       "      <td>3</td>\n",
       "      <td>88</td>\n",
       "      <td>4/8/2018</td>\n",
       "      <td>1740</td>\n",
       "    </tr>\n",
       "    <tr>\n",
       "      <th>4</th>\n",
       "      <td>3</td>\n",
       "      <td>Thomas Finléy</td>\n",
       "      <td>3</td>\n",
       "      <td>Sed Dui Fusce Consulting</td>\n",
       "      <td>6</td>\n",
       "      <td>83</td>\n",
       "      <td>6/26/2018</td>\n",
       "      <td>9590</td>\n",
       "    </tr>\n",
       "  </tbody>\n",
       "</table>\n",
       "</div>"
      ],
      "text/plain": [
       "   contactsId    contactsName  companiesId             companiesName  \\\n",
       "0           1  Damian Mathews            1                 Class LLP   \n",
       "1           1  Damian Mathews            1                 Class LLP   \n",
       "2           1  Damian Mathews            1                 Class LLP   \n",
       "3           2    Paul Leblanc            2     Vulputate Corporation   \n",
       "4           3   Thomas Finléy            3  Sed Dui Fusce Consulting   \n",
       "\n",
       "   sectorKey  dealsId dealsDateCreated  dealsPrice  \n",
       "0          5       43         2/4/2019         660  \n",
       "1          5       28         5/9/2019          60  \n",
       "2          5       22       11/14/2017        4210  \n",
       "3          3       88         4/8/2018        1740  \n",
       "4          6       83        6/26/2018        9590  "
      ]
     },
     "execution_count": 4,
     "metadata": {},
     "output_type": "execute_result"
    }
   ],
   "source": [
    "#Creating and Merging the Final DateFrame;\n",
    "df_final = contato.copy()\n",
    "df_final = df_final.merge(compania, on=['contactsId', 'contactsName'])\n",
    "df_final = df_final.merge(venda, on=['contactsId', 'companiesId'])\n",
    "print('Numero de linhas excluidas= ' + str(df_final.isnull().sum().sum()))\n",
    "df_final.dropna(axis=0)\n",
    "df_final.head(5)"
   ]
  },
  {
   "cell_type": "code",
   "execution_count": 5,
   "metadata": {},
   "outputs": [
    {
     "data": {
      "text/html": [
       "<div>\n",
       "<style scoped>\n",
       "    .dataframe tbody tr th:only-of-type {\n",
       "        vertical-align: middle;\n",
       "    }\n",
       "\n",
       "    .dataframe tbody tr th {\n",
       "        vertical-align: top;\n",
       "    }\n",
       "\n",
       "    .dataframe thead th {\n",
       "        text-align: right;\n",
       "    }\n",
       "</style>\n",
       "<table border=\"1\" class=\"dataframe\">\n",
       "  <thead>\n",
       "    <tr style=\"text-align: right;\">\n",
       "      <th></th>\n",
       "      <th>contactsId</th>\n",
       "      <th>contactsName</th>\n",
       "      <th>companiesId</th>\n",
       "      <th>companiesName</th>\n",
       "      <th>sectorKey</th>\n",
       "      <th>dealsId</th>\n",
       "      <th>dealsDateCreated</th>\n",
       "      <th>dealsPrice</th>\n",
       "    </tr>\n",
       "  </thead>\n",
       "  <tbody>\n",
       "    <tr>\n",
       "      <th>0</th>\n",
       "      <td>1</td>\n",
       "      <td>Damian Mathews</td>\n",
       "      <td>1</td>\n",
       "      <td>Class LLP</td>\n",
       "      <td>Varejo</td>\n",
       "      <td>43</td>\n",
       "      <td>2019-02</td>\n",
       "      <td>660</td>\n",
       "    </tr>\n",
       "    <tr>\n",
       "      <th>1</th>\n",
       "      <td>1</td>\n",
       "      <td>Damian Mathews</td>\n",
       "      <td>1</td>\n",
       "      <td>Class LLP</td>\n",
       "      <td>Varejo</td>\n",
       "      <td>28</td>\n",
       "      <td>2019-05</td>\n",
       "      <td>60</td>\n",
       "    </tr>\n",
       "    <tr>\n",
       "      <th>2</th>\n",
       "      <td>1</td>\n",
       "      <td>Damian Mathews</td>\n",
       "      <td>1</td>\n",
       "      <td>Class LLP</td>\n",
       "      <td>Varejo</td>\n",
       "      <td>22</td>\n",
       "      <td>2017-11</td>\n",
       "      <td>4210</td>\n",
       "    </tr>\n",
       "    <tr>\n",
       "      <th>3</th>\n",
       "      <td>2</td>\n",
       "      <td>Paul Leblanc</td>\n",
       "      <td>2</td>\n",
       "      <td>Vulputate Corporation</td>\n",
       "      <td>Tecnologia</td>\n",
       "      <td>88</td>\n",
       "      <td>2018-04</td>\n",
       "      <td>1740</td>\n",
       "    </tr>\n",
       "    <tr>\n",
       "      <th>4</th>\n",
       "      <td>3</td>\n",
       "      <td>Thomas Finléy</td>\n",
       "      <td>3</td>\n",
       "      <td>Sed Dui Fusce Consulting</td>\n",
       "      <td>Atacado</td>\n",
       "      <td>83</td>\n",
       "      <td>2018-06</td>\n",
       "      <td>9590</td>\n",
       "    </tr>\n",
       "  </tbody>\n",
       "</table>\n",
       "</div>"
      ],
      "text/plain": [
       "   contactsId    contactsName  companiesId             companiesName  \\\n",
       "0           1  Damian Mathews            1                 Class LLP   \n",
       "1           1  Damian Mathews            1                 Class LLP   \n",
       "2           1  Damian Mathews            1                 Class LLP   \n",
       "3           2    Paul Leblanc            2     Vulputate Corporation   \n",
       "4           3   Thomas Finléy            3  Sed Dui Fusce Consulting   \n",
       "\n",
       "    sectorKey  dealsId dealsDateCreated  dealsPrice  \n",
       "0      Varejo       43          2019-02         660  \n",
       "1      Varejo       28          2019-05          60  \n",
       "2      Varejo       22          2017-11        4210  \n",
       "3  Tecnologia       88          2018-04        1740  \n",
       "4     Atacado       83          2018-06        9590  "
      ]
     },
     "execution_count": 5,
     "metadata": {},
     "output_type": "execute_result"
    }
   ],
   "source": [
    "#Transforming Dates and Sectors\n",
    "from datetime import datetime\n",
    "\n",
    "setores = []\n",
    "dates = []\n",
    "for item in df_final['dealsDateCreated']:\n",
    "    item  = str(datetime.strptime(item, \"%m/%d/%Y\"))\n",
    "    item2 = item[:7]\n",
    "    dates.append(item2)\n",
    "    \n",
    "for i in df_final['sectorKey']:\n",
    "    setores.append(setor['sector'][i-1])\n",
    "    \n",
    "df_final['dealsDateCreated'] = dates\n",
    "df_final['sectorKey'] = setores\n",
    "\n",
    "df_final.head(5)"
   ]
  },
  {
   "cell_type": "markdown",
   "metadata": {},
   "source": [
    "## Output 1"
   ]
  },
  {
   "cell_type": "code",
   "execution_count": 6,
   "metadata": {},
   "outputs": [
    {
     "data": {
      "image/png": "[encoded data removed]",
      "text/plain": [
       "<Figure size 1080x576 with 1 Axes>"
      ]
     },
     "metadata": {
      "needs_background": "light"
     },
     "output_type": "display_data"
    }
   ],
   "source": [
    "output1 = df_final[['contactsName', 'dealsPrice']]\n",
    "output1 = output1.groupby(output1['contactsName']).sum()\n",
    "\n",
    "#Plotting results 1;\n",
    "fig, ax = plt.subplots(figsize=(15,8))\n",
    "output1.plot(ax=ax, kind='bar')\n",
    "plt.xlabel('Vendedor')\n",
    "plt.ylabel('Valor de vendas total')\n",
    "plt.savefig('graph_1.png')\n",
    "plt.show()"
   ]
  },
  {
   "cell_type": "code",
   "execution_count": 7,
   "metadata": {},
   "outputs": [
    {
     "name": "stderr",
     "output_type": "stream",
     "text": [
      "C:\\New folder\\New folder\\lib\\site-packages\\ipykernel_launcher.py:2: SettingWithCopyWarning: \n",
      "A value is trying to be set on a copy of a slice from a DataFrame.\n",
      "Try using .loc[row_indexer,col_indexer] = value instead\n",
      "\n",
      "See the caveats in the documentation: http://pandas.pydata.org/pandas-docs/stable/indexing.html#indexing-view-versus-copy\n",
      "  \n",
      "C:\\New folder\\New folder\\lib\\site-packages\\ipykernel_launcher.py:3: SettingWithCopyWarning: \n",
      "A value is trying to be set on a copy of a slice from a DataFrame\n",
      "\n",
      "See the caveats in the documentation: http://pandas.pydata.org/pandas-docs/stable/indexing.html#indexing-view-versus-copy\n",
      "  This is separate from the ipykernel package so we can avoid doing imports until\n"
     ]
    },
    {
     "data": {
      "image/png": "[encoded data removed]",
      "text/plain": [
       "<Figure size 1080x504 with 1 Axes>"
      ]
     },
     "metadata": {
      "needs_background": "light"
     },
     "output_type": "display_data"
    }
   ],
   "source": [
    "output2 = df_final[['dealsDateCreated', 'dealsPrice']]\n",
    "output2['dealsDateCreated'] = pd.to_datetime(output2['dealsDateCreated'], format='%Y-%m').dt.strftime('%Y-%m')\n",
    "output2.sort_values(['dealsDateCreated'], inplace=True)\n",
    "output2 = output2.groupby(output2['dealsDateCreated']).sum()\n",
    "\n",
    "#Plotting Result 2;\n",
    "fig, ax = plt.subplots(figsize=(15,7))\n",
    "output2.plot(ax=ax, kind='bar')\n",
    "plt.xlabel('Data')\n",
    "plt.ylabel('Valor de vendas total')\n",
    "plt.savefig('graph_2.png')\n",
    "plt.show()"
   ]
  },
  {
   "cell_type": "markdown",
   "metadata": {},
   "source": [
    "## Output 2"
   ]
  },
  {
   "cell_type": "code",
   "execution_count": 8,
   "metadata": {
    "scrolled": true
   },
   "outputs": [],
   "source": [
    "#Output 3:\n",
    "output3 = df_final.groupby(['companiesName', 'sectorKey']).agg({'dealsPrice': 'sum'})\n",
    "output3 = output3.groupby(level=0).apply(lambda x: 100 * x / float(x.sum()))\n",
    "\n",
    "output3.to_csv('output_2.csv')"
   ]
  },
  {
   "cell_type": "code",
   "execution_count": null,
   "metadata": {},
   "outputs": [],
   "source": []
  }
 ],
 "metadata": {
  "kernelspec": {
   "display_name": "Python 3",
   "language": "python",
   "name": "python3"
  },
  "language_info": {
   "codemirror_mode": {
    "name": "ipython",
    "version": 3
   },
   "file_extension": ".py",
   "mimetype": "text/x-python",
   "name": "python",
   "nbconvert_exporter": "python",
   "pygments_lexer": "ipython3",
   "version": "3.7.3"
  }
 },
 "nbformat": 4,
 "nbformat_minor": 2
}
